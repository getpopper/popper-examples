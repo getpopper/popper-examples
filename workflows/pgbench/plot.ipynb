{
 "cells": [
  {
   "cell_type": "code",
   "execution_count": 1,
   "metadata": {},
   "outputs": [],
   "source": [
    "import matplotlib\n",
    "import numpy as np\n",
    "import matplotlib.pyplot as plt\n",
    "import numpy as np\n",
    "import os\n",
    "import re\n",
    "%matplotlib inline"
   ]
  },
  {
   "cell_type": "code",
   "execution_count": 2,
   "metadata": {},
   "outputs": [],
   "source": [
    "def read_tps(filename):\n",
    "    with open(filename, 'r') as fp:\n",
    "        contents = fp.read()\n",
    "        \n",
    "    print(contents)\n",
    "    tps_match = re.search('tps = (\\d+(?:\\.\\d+)) \\(including connections establishing\\)', contents)\n",
    "    print(tps_match.groups)\n",
    "    return float(tps_match.group(1))\n"
   ]
  },
  {
   "cell_type": "code",
   "execution_count": 3,
   "metadata": {},
   "outputs": [
    {
     "data": {
      "text/plain": [
       "<Figure size 720x720 with 0 Axes>"
      ]
     },
     "metadata": {},
     "output_type": "display_data"
    }
   ],
   "source": [
    "import pathlib\n",
    "from collections import defaultdict\n",
    "\n",
    "param_regex = re.compile(r'(.*)-(\\d+)-(simple|extended|prepared).results')\n",
    "data_points = defaultdict(list)\n",
    "plots = set([])\n",
    "\n",
    "for filename in pathlib.Path('../results/').glob('*.results'):\n",
    "    version, threads, query_mode = param_regex.match(str(filename)).groups()\n",
    "    tps = read_tps(filename)\n",
    "    plots.add(query_mode)\n",
    "    data_points[(version, query_mode)].append((int(threads), tps))\n",
    "    \n",
    "if len(data_points) == 0:\n",
    "    raise Exception('no data')\n",
    "for value in data_points.values():\n",
    "    value.sort()\n",
    "\n",
    "t = np.arange(0.01, 20.0, 0.01)\n",
    "\n",
    "plt.figure(figsize=(10, 10))\n",
    "\n",
    "for i, query_mode in enumerate(plots):\n",
    "    plt.subplot(3,1,i+1)\n",
    "    plt.tight_layout()\n",
    "    \n",
    "    plt.title(\"Query mode {}\".format(query_mode))\n",
    "    for version, points in [(key[0], points) for key, points in data_points.items()\n",
    "                            if key[1] == query_mode]:\n",
    "        plt.xscale('log', basex=2)\n",
    "        plt.plot(*zip(*points), label=version)\n",
    "\n",
    "    plt.legend(loc='upper left')\n",
    "    plt.xlabel('Number of threads')\n",
    "    plt.ylabel('Transactions per second')\n",
    "\n",
    "os.makedirs('figures/', exist_ok=True)\n",
    "plt.savefig('figures/pgbench-comparison.pdf', bbox_inches='tight')\n",
    "plt.show()"
   ]
  },
  {
   "cell_type": "code",
   "execution_count": 4,
   "metadata": {},
   "outputs": [],
   "source": []
  }
 ],
 "metadata": {
  "kernelspec": {
   "display_name": "Python 3",
   "language": "python",
   "name": "python3"
  },
  "language_info": {
   "codemirror_mode": {
    "name": "ipython",
    "version": 3
   },
   "file_extension": ".py",
   "mimetype": "text/x-python",
   "name": "python",
   "nbconvert_exporter": "python",
   "pygments_lexer": "ipython3",
   "version": "3.6.9"
  }
 },
 "nbformat": 4,
 "nbformat_minor": 2
}
